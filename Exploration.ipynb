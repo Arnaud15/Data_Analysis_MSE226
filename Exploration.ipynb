{
 "cells": [
  {
   "cell_type": "code",
   "execution_count": 2,
   "metadata": {},
   "outputs": [],
   "source": [
    "import pandas as pd\n",
    "import numpy as np\n",
    "import seaborn as sb\n",
    "import matplotlib.pyplot as plt"
   ]
  },
  {
   "cell_type": "code",
   "execution_count": 15,
   "metadata": {},
   "outputs": [],
   "source": [
    "main_table = pd.read_csv('./data/olist_public_dataset_v2.csv')\n",
    "\n",
    "customer_id_data = pd.read_csv('./data/olist_public_dataset_v2_customers.csv')\n",
    "\n",
    "payments_data = pd.read_csv('./data/olist_public_dataset_v2_payments.csv')\n",
    "\n",
    "geolocalisation_data = pd.read_csv('./data/geolocation_olist_public_dataset.csv')\n",
    "\n",
    "labeled_table = pd.read_csv('./data/olist_classified_public_dataset.csv')"
   ]
  },
  {
   "cell_type": "code",
   "execution_count": 16,
   "metadata": {},
   "outputs": [
    {
     "name": "stdout",
     "output_type": "stream",
     "text": [
      "<class 'pandas.core.frame.DataFrame'>\n",
      "RangeIndex: 100000 entries, 0 to 99999\n",
      "Data columns (total 25 columns):\n",
      "order_id                         100000 non-null object\n",
      "order_status                     100000 non-null object\n",
      "order_products_value             100000 non-null float64\n",
      "order_freight_value              100000 non-null float64\n",
      "order_items_qty                  100000 non-null int64\n",
      "order_sellers_qty                100000 non-null int64\n",
      "order_purchase_timestamp         100000 non-null object\n",
      "order_aproved_at                 99982 non-null object\n",
      "order_estimated_delivery_date    100000 non-null object\n",
      "order_delivered_customer_date    97595 non-null object\n",
      "customer_id                      100000 non-null object\n",
      "customer_city                    100000 non-null object\n",
      "customer_state                   100000 non-null object\n",
      "customer_zip_code_prefix         100000 non-null int64\n",
      "product_category_name            100000 non-null object\n",
      "product_name_lenght              100000 non-null int64\n",
      "product_description_lenght       100000 non-null int64\n",
      "product_photos_qty               100000 non-null int64\n",
      "product_id                       100000 non-null object\n",
      "review_id                        100000 non-null object\n",
      "review_score                     100000 non-null int64\n",
      "review_comment_title             8262 non-null object\n",
      "review_comment_message           42489 non-null object\n",
      "review_creation_date             100000 non-null object\n",
      "review_answer_timestamp          100000 non-null object\n",
      "dtypes: float64(2), int64(7), object(16)\n",
      "memory usage: 19.1+ MB\n"
     ]
    }
   ],
   "source": [
    "main_table.info()"
   ]
  },
  {
   "cell_type": "code",
   "execution_count": 17,
   "metadata": {},
   "outputs": [
    {
     "name": "stdout",
     "output_type": "stream",
     "text": [
      "<class 'pandas.core.frame.DataFrame'>\n",
      "RangeIndex: 3584 entries, 0 to 3583\n",
      "Data columns (total 34 columns):\n",
      "Unnamed: 0                       3584 non-null int64\n",
      "id                               3584 non-null int64\n",
      "order_status                     3584 non-null object\n",
      "order_products_value             3584 non-null float64\n",
      "order_freight_value              3584 non-null float64\n",
      "order_items_qty                  3584 non-null int64\n",
      "order_sellers_qty                3584 non-null int64\n",
      "order_purchase_timestamp         3584 non-null object\n",
      "order_aproved_at                 3584 non-null object\n",
      "order_estimated_delivery_date    3584 non-null object\n",
      "order_delivered_customer_date    3467 non-null object\n",
      "customer_city                    3584 non-null object\n",
      "customer_state                   3584 non-null object\n",
      "customer_zip_code_prefix         3584 non-null int64\n",
      "product_category_name            3584 non-null object\n",
      "product_name_lenght              3584 non-null int64\n",
      "product_description_lenght       3584 non-null int64\n",
      "product_photos_qty               3584 non-null int64\n",
      "review_score                     3584 non-null int64\n",
      "review_comment_title             0 non-null float64\n",
      "review_comment_message           3584 non-null object\n",
      "review_creation_date             3584 non-null object\n",
      "review_answer_timestamp          3584 non-null object\n",
      "votes_before_estimate            3584 non-null int64\n",
      "votes_delayed                    3584 non-null int64\n",
      "votes_low_quality                3584 non-null int64\n",
      "votes_return                     3584 non-null int64\n",
      "votes_not_as_anounced            3584 non-null int64\n",
      "votes_partial_delivery           3584 non-null int64\n",
      "votes_other_delivery             3584 non-null int64\n",
      "votes_other_order                3584 non-null int64\n",
      "votes_satisfied                  3584 non-null int64\n",
      "most_voted_subclass              3413 non-null object\n",
      "most_voted_class                 3413 non-null object\n",
      "dtypes: float64(3), int64(18), object(13)\n",
      "memory usage: 952.1+ KB\n"
     ]
    }
   ],
   "source": [
    "labeled_table.info()"
   ]
  },
  {
   "cell_type": "code",
   "execution_count": null,
   "metadata": {},
   "outputs": [],
   "source": []
  }
 ],
 "metadata": {
  "kernelspec": {
   "display_name": "Python [conda env:tf-gpu]",
   "language": "python",
   "name": "conda-env-tf-gpu-py"
  },
  "language_info": {
   "codemirror_mode": {
    "name": "ipython",
    "version": 3
   },
   "file_extension": ".py",
   "mimetype": "text/x-python",
   "name": "python",
   "nbconvert_exporter": "python",
   "pygments_lexer": "ipython3",
   "version": "3.6.6"
  }
 },
 "nbformat": 4,
 "nbformat_minor": 2
}
