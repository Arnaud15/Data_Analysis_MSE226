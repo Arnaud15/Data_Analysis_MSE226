{
 "cells": [
  {
   "cell_type": "code",
   "execution_count": 12,
   "metadata": {},
   "outputs": [],
   "source": [
    "import pandas as pd\n",
    "import numpy as np\n",
    "import seaborn as sb\n",
    "import matplotlib.pyplot as plt"
   ]
  },
  {
   "cell_type": "code",
   "execution_count": 11,
   "metadata": {},
   "outputs": [],
   "source": [
    "main_table = pd.read_csv('./data/olist_public_dataset_v2.csv')\n",
    "holdout_data = main_table.sample(frac=0.2, random_state=15)\n",
    "main_table.drop(labels=holdout_data.index, axis=0, inplace=True)"
   ]
  },
  {
   "cell_type": "code",
   "execution_count": 13,
   "metadata": {},
   "outputs": [
    {
     "data": {
      "text/plain": [
       "False"
      ]
     },
     "execution_count": 13,
     "metadata": {},
     "output_type": "execute_result"
    }
   ],
   "source": [
    "geolocalisation_data = pd.read_csv('./data/geolocation_olist_public_dataset.csv')\n",
    "geolocalisation_data = geolocalisation_data.loc[:, ['zip_code_prefix', 'lat', 'lng']].groupby('zip_code_prefix').mean()\n",
    "geolocalisation_data.isnull().values.any()"
   ]
  },
  {
   "cell_type": "code",
   "execution_count": 14,
   "metadata": {},
   "outputs": [],
   "source": [
    "main_table = pd.read_csv('./data/olist_public_dataset_v2.csv')\n",
    "\n",
    "time_colummns = ['order_purchase_timestamp', 'order_aproved_at', 'order_estimated_delivery_date',\\\n",
    "                  'order_delivered_customer_date', 'review_answer_timestamp', 'review_creation_date']\n",
    "main_table.loc[:,time_colummns] = pd.to_datetime(main_table.loc[:,time_colummns].stack()).unstack()\n",
    "main_table.sort_values(by='order_purchase_timestamp')\n",
    "main_table = main_table.groupby('order_id').last()\n",
    "\n",
    "approval_time = (main_table.loc[:, 'order_aproved_at'] \\\n",
    "                 - main_table.loc[:, 'order_purchase_timestamp']).astype('timedelta64[s]')\n",
    "main_table = main_table.assign(approval_time=approval_time)\n",
    "\n",
    "delivery_delay = (main_table.loc[:, 'order_delivered_customer_date']\\\n",
    "                  - main_table.loc[:, 'order_estimated_delivery_date']).astype('timedelta64[s]')\n",
    "main_table = main_table.assign(delivery_delay=delivery_delay)\n",
    "\n",
    "review_time = (main_table.loc[:, 'review_answer_timestamp'] \\\n",
    "                 - main_table.loc[:, 'review_creation_date']).astype('timedelta64[s]')\n",
    "main_table = main_table.assign(review_time=review_time)\n",
    "\n",
    "main_table.dropna(axis=0, how='any', subset=['order_aproved_at'], inplace=True)\n",
    "\n",
    "main_table.loc[:,'delivery_delay'] = main_table.loc[:,'delivery_delay'].fillna(0)\n",
    "\n",
    "main_table = pd.merge(main_table, geolocalisation_data, left_on='customer_zip_code_prefix'\\\n",
    "                      , right_index=True, how='left', sort=False)\n",
    "main_table.dropna(axis=0, how='any', subset=['lat'], inplace=True)\n",
    "\n",
    "columns_to_remove = ['order_status', 'order_purchase_timestamp', 'order_aproved_at',\\\n",
    "                     'order_estimated_delivery_date', 'order_delivered_customer_date',\\\n",
    "                     'customer_id', 'product_name_lenght', 'review_id', 'review_creation_date',\\\n",
    "                    'review_answer_timestamp', 'product_id']\n",
    "\n",
    "main_table.drop(labels=columns_to_remove, axis=1, inplace=True)\n",
    "main_table.loc[:, 'review_comment_title'] = main_table.loc[:, 'review_comment_title'].str.len() >0\n",
    "main_table.loc[:, 'review_comment_message'] = main_table.loc[:, 'review_comment_message'].str.len()\n",
    "main_table.loc[:, 'review_comment_message'] = main_table.loc[:, 'review_comment_message'].fillna(0)"
   ]
  },
  {
   "cell_type": "code",
   "execution_count": 15,
   "metadata": {},
   "outputs": [],
   "source": [
    "#customer_id_data = pd.read_csv('./data/olist_public_dataset_v2_customers.csv')\n",
    "\n",
    "#payments_data = pd.read_csv('./data/olist_public_dataset_v2_payments.csv')\n",
    "\n",
    "#labeled_table = pd.read_csv('./data/olist_classified_public_dataset.csv')"
   ]
  },
  {
   "cell_type": "code",
   "execution_count": 16,
   "metadata": {
    "scrolled": true
   },
   "outputs": [
    {
     "name": "stdout",
     "output_type": "stream",
     "text": [
      "<class 'pandas.core.frame.DataFrame'>\n",
      "Index: 96188 entries, 0000f01da58c553799200eb71eb0563b to ffff4b4f540d2d98fae13222d4d3aec1\n",
      "Data columns (total 18 columns):\n",
      "order_products_value          96188 non-null float64\n",
      "order_freight_value           96188 non-null float64\n",
      "order_items_qty               96188 non-null int64\n",
      "order_sellers_qty             96188 non-null int64\n",
      "customer_city                 96188 non-null object\n",
      "customer_state                96188 non-null object\n",
      "customer_zip_code_prefix      96188 non-null int64\n",
      "product_category_name         96188 non-null object\n",
      "product_description_lenght    96188 non-null int64\n",
      "product_photos_qty            96188 non-null int64\n",
      "review_score                  96188 non-null int64\n",
      "review_comment_title          96188 non-null bool\n",
      "review_comment_message        96188 non-null float64\n",
      "approval_time                 96188 non-null float64\n",
      "delivery_delay                96188 non-null float64\n",
      "review_time                   96188 non-null float64\n",
      "lat                           96188 non-null float64\n",
      "lng                           96188 non-null float64\n",
      "dtypes: bool(1), float64(8), int64(6), object(3)\n",
      "memory usage: 13.3+ MB\n"
     ]
    }
   ],
   "source": [
    "main_table.info()"
   ]
  },
  {
   "cell_type": "code",
   "execution_count": 17,
   "metadata": {},
   "outputs": [
    {
     "data": {
      "text/html": [
       "<div>\n",
       "<style scoped>\n",
       "    .dataframe tbody tr th:only-of-type {\n",
       "        vertical-align: middle;\n",
       "    }\n",
       "\n",
       "    .dataframe tbody tr th {\n",
       "        vertical-align: top;\n",
       "    }\n",
       "\n",
       "    .dataframe thead th {\n",
       "        text-align: right;\n",
       "    }\n",
       "</style>\n",
       "<table border=\"1\" class=\"dataframe\">\n",
       "  <thead>\n",
       "    <tr style=\"text-align: right;\">\n",
       "      <th></th>\n",
       "      <th>order_products_value</th>\n",
       "      <th>order_freight_value</th>\n",
       "      <th>order_items_qty</th>\n",
       "      <th>order_sellers_qty</th>\n",
       "      <th>customer_city</th>\n",
       "      <th>customer_state</th>\n",
       "      <th>customer_zip_code_prefix</th>\n",
       "      <th>product_category_name</th>\n",
       "      <th>product_description_lenght</th>\n",
       "      <th>product_photos_qty</th>\n",
       "      <th>review_score</th>\n",
       "      <th>review_comment_title</th>\n",
       "      <th>review_comment_message</th>\n",
       "      <th>approval_time</th>\n",
       "      <th>delivery_delay</th>\n",
       "      <th>review_time</th>\n",
       "      <th>lat</th>\n",
       "      <th>lng</th>\n",
       "    </tr>\n",
       "    <tr>\n",
       "      <th>order_id</th>\n",
       "      <th></th>\n",
       "      <th></th>\n",
       "      <th></th>\n",
       "      <th></th>\n",
       "      <th></th>\n",
       "      <th></th>\n",
       "      <th></th>\n",
       "      <th></th>\n",
       "      <th></th>\n",
       "      <th></th>\n",
       "      <th></th>\n",
       "      <th></th>\n",
       "      <th></th>\n",
       "      <th></th>\n",
       "      <th></th>\n",
       "      <th></th>\n",
       "      <th></th>\n",
       "      <th></th>\n",
       "    </tr>\n",
       "  </thead>\n",
       "  <tbody>\n",
       "    <tr>\n",
       "      <th>0000f01da58c553799200eb71eb0563b</th>\n",
       "      <td>54.90</td>\n",
       "      <td>18.00</td>\n",
       "      <td>1</td>\n",
       "      <td>1</td>\n",
       "      <td>Sao Jose dos Campos</td>\n",
       "      <td>SP</td>\n",
       "      <td>122</td>\n",
       "      <td>moveis_sala</td>\n",
       "      <td>1146</td>\n",
       "      <td>3</td>\n",
       "      <td>3</td>\n",
       "      <td>False</td>\n",
       "      <td>190.0</td>\n",
       "      <td>124592.0</td>\n",
       "      <td>80927.0</td>\n",
       "      <td>127559.0</td>\n",
       "      <td>-23.207687</td>\n",
       "      <td>-45.867402</td>\n",
       "    </tr>\n",
       "    <tr>\n",
       "      <th>00010242fe8c5a6d1ba2dd792cb16214</th>\n",
       "      <td>58.90</td>\n",
       "      <td>13.29</td>\n",
       "      <td>1</td>\n",
       "      <td>1</td>\n",
       "      <td>Campos dos Goytacazes</td>\n",
       "      <td>RJ</td>\n",
       "      <td>280</td>\n",
       "      <td>cool_stuff</td>\n",
       "      <td>627</td>\n",
       "      <td>4</td>\n",
       "      <td>5</td>\n",
       "      <td>False</td>\n",
       "      <td>44.0</td>\n",
       "      <td>2793.0</td>\n",
       "      <td>-692172.0</td>\n",
       "      <td>136623.0</td>\n",
       "      <td>-21.761769</td>\n",
       "      <td>-41.318851</td>\n",
       "    </tr>\n",
       "    <tr>\n",
       "      <th>00026c8a4fe2c14efa2afe807921981c</th>\n",
       "      <td>389.98</td>\n",
       "      <td>87.30</td>\n",
       "      <td>2</td>\n",
       "      <td>1</td>\n",
       "      <td>Lagoa Grande</td>\n",
       "      <td>PE</td>\n",
       "      <td>563</td>\n",
       "      <td>ferramentas_jardim</td>\n",
       "      <td>417</td>\n",
       "      <td>4</td>\n",
       "      <td>5</td>\n",
       "      <td>True</td>\n",
       "      <td>3.0</td>\n",
       "      <td>81368.0</td>\n",
       "      <td>-1381390.0</td>\n",
       "      <td>54469.0</td>\n",
       "      <td>-9.269562</td>\n",
       "      <td>-40.449405</td>\n",
       "    </tr>\n",
       "    <tr>\n",
       "      <th>000312d02b605a8a630c3a9882793ffb</th>\n",
       "      <td>600.00</td>\n",
       "      <td>73.20</td>\n",
       "      <td>4</td>\n",
       "      <td>1</td>\n",
       "      <td>Piuma</td>\n",
       "      <td>ES</td>\n",
       "      <td>292</td>\n",
       "      <td>utilidades_domesticas</td>\n",
       "      <td>1632</td>\n",
       "      <td>10</td>\n",
       "      <td>5</td>\n",
       "      <td>False</td>\n",
       "      <td>0.0</td>\n",
       "      <td>836.0</td>\n",
       "      <td>-881253.0</td>\n",
       "      <td>265270.0</td>\n",
       "      <td>-20.684788</td>\n",
       "      <td>-40.628767</td>\n",
       "    </tr>\n",
       "    <tr>\n",
       "      <th>000330af600103828257923c9aa98ae2</th>\n",
       "      <td>17.49</td>\n",
       "      <td>17.34</td>\n",
       "      <td>1</td>\n",
       "      <td>4</td>\n",
       "      <td>Barra de Sao Joao</td>\n",
       "      <td>RJ</td>\n",
       "      <td>288</td>\n",
       "      <td>alimentos_bebidas</td>\n",
       "      <td>2263</td>\n",
       "      <td>6</td>\n",
       "      <td>4</td>\n",
       "      <td>False</td>\n",
       "      <td>0.0</td>\n",
       "      <td>646.0</td>\n",
       "      <td>-285466.0</td>\n",
       "      <td>442724.0</td>\n",
       "      <td>-22.557961</td>\n",
       "      <td>-42.123562</td>\n",
       "    </tr>\n",
       "  </tbody>\n",
       "</table>\n",
       "</div>"
      ],
      "text/plain": [
       "                                  order_products_value  order_freight_value  \\\n",
       "order_id                                                                      \n",
       "0000f01da58c553799200eb71eb0563b                 54.90                18.00   \n",
       "00010242fe8c5a6d1ba2dd792cb16214                 58.90                13.29   \n",
       "00026c8a4fe2c14efa2afe807921981c                389.98                87.30   \n",
       "000312d02b605a8a630c3a9882793ffb                600.00                73.20   \n",
       "000330af600103828257923c9aa98ae2                 17.49                17.34   \n",
       "\n",
       "                                  order_items_qty  order_sellers_qty  \\\n",
       "order_id                                                               \n",
       "0000f01da58c553799200eb71eb0563b                1                  1   \n",
       "00010242fe8c5a6d1ba2dd792cb16214                1                  1   \n",
       "00026c8a4fe2c14efa2afe807921981c                2                  1   \n",
       "000312d02b605a8a630c3a9882793ffb                4                  1   \n",
       "000330af600103828257923c9aa98ae2                1                  4   \n",
       "\n",
       "                                          customer_city customer_state  \\\n",
       "order_id                                                                 \n",
       "0000f01da58c553799200eb71eb0563b    Sao Jose dos Campos             SP   \n",
       "00010242fe8c5a6d1ba2dd792cb16214  Campos dos Goytacazes             RJ   \n",
       "00026c8a4fe2c14efa2afe807921981c           Lagoa Grande             PE   \n",
       "000312d02b605a8a630c3a9882793ffb                  Piuma             ES   \n",
       "000330af600103828257923c9aa98ae2      Barra de Sao Joao             RJ   \n",
       "\n",
       "                                  customer_zip_code_prefix  \\\n",
       "order_id                                                     \n",
       "0000f01da58c553799200eb71eb0563b                       122   \n",
       "00010242fe8c5a6d1ba2dd792cb16214                       280   \n",
       "00026c8a4fe2c14efa2afe807921981c                       563   \n",
       "000312d02b605a8a630c3a9882793ffb                       292   \n",
       "000330af600103828257923c9aa98ae2                       288   \n",
       "\n",
       "                                  product_category_name  \\\n",
       "order_id                                                  \n",
       "0000f01da58c553799200eb71eb0563b            moveis_sala   \n",
       "00010242fe8c5a6d1ba2dd792cb16214             cool_stuff   \n",
       "00026c8a4fe2c14efa2afe807921981c     ferramentas_jardim   \n",
       "000312d02b605a8a630c3a9882793ffb  utilidades_domesticas   \n",
       "000330af600103828257923c9aa98ae2      alimentos_bebidas   \n",
       "\n",
       "                                  product_description_lenght  \\\n",
       "order_id                                                       \n",
       "0000f01da58c553799200eb71eb0563b                        1146   \n",
       "00010242fe8c5a6d1ba2dd792cb16214                         627   \n",
       "00026c8a4fe2c14efa2afe807921981c                         417   \n",
       "000312d02b605a8a630c3a9882793ffb                        1632   \n",
       "000330af600103828257923c9aa98ae2                        2263   \n",
       "\n",
       "                                  product_photos_qty  review_score  \\\n",
       "order_id                                                             \n",
       "0000f01da58c553799200eb71eb0563b                   3             3   \n",
       "00010242fe8c5a6d1ba2dd792cb16214                   4             5   \n",
       "00026c8a4fe2c14efa2afe807921981c                   4             5   \n",
       "000312d02b605a8a630c3a9882793ffb                  10             5   \n",
       "000330af600103828257923c9aa98ae2                   6             4   \n",
       "\n",
       "                                  review_comment_title  \\\n",
       "order_id                                                 \n",
       "0000f01da58c553799200eb71eb0563b                 False   \n",
       "00010242fe8c5a6d1ba2dd792cb16214                 False   \n",
       "00026c8a4fe2c14efa2afe807921981c                  True   \n",
       "000312d02b605a8a630c3a9882793ffb                 False   \n",
       "000330af600103828257923c9aa98ae2                 False   \n",
       "\n",
       "                                  review_comment_message  approval_time  \\\n",
       "order_id                                                                  \n",
       "0000f01da58c553799200eb71eb0563b                   190.0       124592.0   \n",
       "00010242fe8c5a6d1ba2dd792cb16214                    44.0         2793.0   \n",
       "00026c8a4fe2c14efa2afe807921981c                     3.0        81368.0   \n",
       "000312d02b605a8a630c3a9882793ffb                     0.0          836.0   \n",
       "000330af600103828257923c9aa98ae2                     0.0          646.0   \n",
       "\n",
       "                                  delivery_delay  review_time        lat  \\\n",
       "order_id                                                                   \n",
       "0000f01da58c553799200eb71eb0563b         80927.0     127559.0 -23.207687   \n",
       "00010242fe8c5a6d1ba2dd792cb16214       -692172.0     136623.0 -21.761769   \n",
       "00026c8a4fe2c14efa2afe807921981c      -1381390.0      54469.0  -9.269562   \n",
       "000312d02b605a8a630c3a9882793ffb       -881253.0     265270.0 -20.684788   \n",
       "000330af600103828257923c9aa98ae2       -285466.0     442724.0 -22.557961   \n",
       "\n",
       "                                        lng  \n",
       "order_id                                     \n",
       "0000f01da58c553799200eb71eb0563b -45.867402  \n",
       "00010242fe8c5a6d1ba2dd792cb16214 -41.318851  \n",
       "00026c8a4fe2c14efa2afe807921981c -40.449405  \n",
       "000312d02b605a8a630c3a9882793ffb -40.628767  \n",
       "000330af600103828257923c9aa98ae2 -42.123562  "
      ]
     },
     "execution_count": 17,
     "metadata": {},
     "output_type": "execute_result"
    }
   ],
   "source": [
    "main_table.head()"
   ]
  },
  {
   "cell_type": "code",
   "execution_count": 18,
   "metadata": {},
   "outputs": [
    {
     "data": {
      "text/plain": [
       "\"\\nresult = pd.merge(main_table, geolocalisation_data, left_on='customer_zip_code_prefix', right_index=True, how='left', sort=False)\\ntest = result.loc[result.loc[:,'lat'].isnull(), ['customer_zip_code_prefix']]\\ntest.values.squeeze()\\ngeolocalisation_data.index.isin(test.values.squeeze()).sum()\\n\""
      ]
     },
     "execution_count": 18,
     "metadata": {},
     "output_type": "execute_result"
    }
   ],
   "source": [
    "'''\n",
    "result = pd.merge(main_table, geolocalisation_data, left_on='customer_zip_code_prefix', right_index=True, how='left', sort=False)\n",
    "test = result.loc[result.loc[:,'lat'].isnull(), ['customer_zip_code_prefix']]\n",
    "test.values.squeeze()\n",
    "geolocalisation_data.index.isin(test.values.squeeze()).sum()\n",
    "'''"
   ]
  },
  {
   "cell_type": "code",
   "execution_count": 26,
   "metadata": {},
   "outputs": [],
   "source": [
    "reviews = main_table.groupby('review_score').size().values"
   ]
  },
  {
   "cell_type": "code",
   "execution_count": 30,
   "metadata": {},
   "outputs": [
    {
     "data": {
      "text/plain": [
       "0.23455108745373643"
      ]
     },
     "execution_count": 30,
     "metadata": {},
     "output_type": "execute_result"
    }
   ],
   "source": [
    "reviews[:3].sum() / 96188"
   ]
  },
  {
   "cell_type": "code",
   "execution_count": 31,
   "metadata": {},
   "outputs": [
    {
     "data": {
      "text/plain": [
       "0.7654489125462636"
      ]
     },
     "execution_count": 31,
     "metadata": {},
     "output_type": "execute_result"
    }
   ],
   "source": [
    "reviews[3:].sum() / 96188"
   ]
  },
  {
   "cell_type": "code",
   "execution_count": 29,
   "metadata": {},
   "outputs": [
    {
     "data": {
      "text/plain": [
       "96188"
      ]
     },
     "execution_count": 29,
     "metadata": {},
     "output_type": "execute_result"
    }
   ],
   "source": [
    "reviews.sum()"
   ]
  },
  {
   "cell_type": "code",
   "execution_count": null,
   "metadata": {},
   "outputs": [],
   "source": []
  }
 ],
 "metadata": {
  "kernelspec": {
   "display_name": "Python [conda env:tf-gpu]",
   "language": "python",
   "name": "conda-env-tf-gpu-py"
  },
  "language_info": {
   "codemirror_mode": {
    "name": "ipython",
    "version": 3
   },
   "file_extension": ".py",
   "mimetype": "text/x-python",
   "name": "python",
   "nbconvert_exporter": "python",
   "pygments_lexer": "ipython3",
   "version": "3.6.6"
  }
 },
 "nbformat": 4,
 "nbformat_minor": 2
}
